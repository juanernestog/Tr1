{
 "cells": [
  {
   "cell_type": "code",
   "execution_count": 1,
   "metadata": {
    "inputHidden": false,
    "outputHidden": false
   },
   "outputs": [
    {
     "name": "stdout",
     "output_type": "stream",
     "text": [
      "Populating the interactive namespace from numpy and matplotlib\n"
     ]
    }
   ],
   "source": [
    "import os\n",
    "import pandas as pd\n",
    "from scipy.stats import ks_2samp\n",
    "%pylab inline"
   ]
  },
  {
   "cell_type": "markdown",
   "metadata": {},
   "source": [
    "importar librerias necesarias"
   ]
  },
  {
   "cell_type": "markdown",
   "metadata": {},
   "source": [
    "comando para ubicarse en la carpeta actual"
   ]
  },
  {
   "cell_type": "code",
   "execution_count": 2,
   "metadata": {
    "inputHidden": false,
    "outputHidden": false
   },
   "outputs": [
    {
     "data": {
      "text/plain": [
       "'/home/nbuser/library/02_taller01'"
      ]
     },
     "execution_count": 2,
     "metadata": {},
     "output_type": "execute_result"
    }
   ],
   "source": [
    "pwd"
   ]
  },
  {
   "cell_type": "markdown",
   "metadata": {},
   "source": [
    "funcion que devuelve un dataframe con año, mes, dias del mes, GHi mensual promedio y diario promedio.  \n",
    "\n",
    "La función *ghi* calcula la energía total en $kWh/m^2$ para cada mes en la serie de datos (GHImes)y calcula el promedio diario de cada mes (GHIdiario)."
   ]
  },
  {
   "cell_type": "code",
   "execution_count": 3,
   "metadata": {
    "inputHidden": false,
    "outputHidden": false
   },
   "outputs": [],
   "source": [
    "def ghi(serie_horaria): # entra un df horario y retorna un df mensual con año, mes, #dias del mes, GHImenusl prom y GHI diario prom\n",
    "    agnos = sorted(serie_horaria['AÑO'].unique())\n",
    "    ghi_df = pd.DataFrame(columns=[\"AÑO\", \"MES\", \"DIAS\", \"GHImes\", \"GHIdiario\"])\n",
    "    for agno in agnos:\n",
    "        for mes in range(1,13):\n",
    "            nombre_energia = list(serie_horaria)[-1]\n",
    "            dias = sorted(serie_horaria[(serie_horaria['AÑO'] == agno) &\n",
    "                        (serie_horaria['MES'] == mes)][\"DIA\"].unique())\n",
    "            ghi_mes = serie_horaria.loc[((serie_horaria[\"AÑO\"] == agno)\n",
    "                            & (serie_horaria[\"MES\"] == mes)),\n",
    "                                        nombre_energia].sum()/1000\n",
    "            ghi_dia_prom=serie_horaria.loc[((serie_horaria[\"AÑO\"] == agno)\n",
    "                            & (serie_horaria[\"MES\"] == mes)),\n",
    "                                        nombre_energia].sum()/1000/dias[-1]\n",
    "            ghi_dict = {\"AÑO\":agno, \"MES\":mes, \"DIAS\":dias[-1],\n",
    "                        \"GHImes\":ghi_mes,\"GHIdiario\":ghi_dia_prom}\n",
    "            ghi_df = ghi_df.append(ghi_dict, ignore_index=True)\n",
    "    return ghi_df"
   ]
  },
  {
   "cell_type": "markdown",
   "metadata": {},
   "source": [
    "En la siguiente celda hay una funcion que tiene como entrada la ciudad y fuente de datos y llama la funcion ghi para los datos de esta, y retorna el dataframe de la ciudad y fuente especificada con año, mes, dias, GHIme y GHIdiario"
   ]
  },
  {
   "cell_type": "code",
   "execution_count": 4,
   "metadata": {
    "inputHidden": false,
    "outputHidden": false
   },
   "outputs": [],
   "source": [
    "def dfCyF(ciudad, fuente):\n",
    "    base_dir = os.path.join( '.','data')\n",
    "    output_dir = os.path.join( '.','output')\n",
    "    serie_csv = os.path.join(base_dir,ciudad,fuente+'.csv')\n",
    "    serie_pd = pd.read_csv(serie_csv, sep = ';',\n",
    "                encoding='latin-1')\n",
    "    a=\"df\"+ciudad+\"_\"+fuente\n",
    "    a=ghi(serie_pd)\n",
    "    return a"
   ]
  },
  {
   "cell_type": "code",
   "execution_count": 5,
   "metadata": {},
   "outputs": [],
   "source": [
    "def dfCyFhor(ciudad, fuente):\n",
    "    base_dir = os.path.join( '.','data')\n",
    "    output_dir = os.path.join( '.','output')\n",
    "    serie_csv = os.path.join(base_dir,ciudad,fuente+'.csv')\n",
    "    serie_pd = pd.read_csv(serie_csv, sep = ';',\n",
    "                encoding='latin-1')\n",
    "    return serie_pd"
   ]
  },
  {
   "cell_type": "markdown",
   "metadata": {},
   "source": [
    "se generan arreglos de las ciudades y de las fuentes de los datos"
   ]
  },
  {
   "cell_type": "code",
   "execution_count": 6,
   "metadata": {},
   "outputs": [],
   "source": [
    "ciu={'ciudades':['Barranquilla','Cali','Carmendebolivar','Medellin','SantaMarta','Sucre','Uribia','Valledupar']}\n",
    "Ciudades=pd.DataFrame(ciu)"
   ]
  },
  {
   "cell_type": "code",
   "execution_count": 7,
   "metadata": {},
   "outputs": [],
   "source": [
    "c=[0,1,2,3,4,5,6,7]\n",
    "Mi=np.zeros(len(c))\n",
    "Ma=np.zeros(len(c))\n",
    "cdd = pd.DataFrame(columns=[\"ciudades\", \"Ainicio\", \"Afinal\"])\n",
    "for c in range(0,len(c)):\n",
    "    X=dfCyFhor(Ciudades.ciudades[c],'IDEAM')\n",
    "    Mi[c]=(min(X.AÑO.values))\n",
    "    Ma[c]=(max(X.AÑO.values))\n",
    "    cd = {\"ciudades\":Ciudades.ciudades[c], \"Ainicio\":Mi[c], \"Afinal\":Ma[c]}\n",
    "    cdd = cdd.append(cd, ignore_index=True)"
   ]
  },
  {
   "cell_type": "markdown",
   "metadata": {},
   "source": [
    "La funcion graf acepta 3 strings como entradas, en este orden ciudad, fuente y opciones de grafica y retorna una \n",
    "grafica de la informacion solicitada"
   ]
  },
  {
   "cell_type": "code",
   "execution_count": 8,
   "metadata": {
    "inputHidden": false,
    "outputHidden": false
   },
   "outputs": [],
   "source": [
    "def graf (c1,f1,opcigraf):\n",
    "    GHI1= dfCyF(c1,f1)\n",
    "    datos1 = sorted(GHI1[\"GHIdiario\"])\n",
    "    pylab.xlabel(\"Datos\")\n",
    "    pylab.ylabel(\"Energía $kWh/m^2$\")\n",
    "    n = range(len(datos1))\n",
    "    pylab.plot(n,datos1,opcigraf, label=(c1+'_'+f1))#sin normalizar\n",
    "    pylab.legend(loc='upper left')"
   ]
  },
  {
   "cell_type": "markdown",
   "metadata": {},
   "source": [
    "la funcion graf acepta 2 strings y 2 ints como entradas, el nombre de la ciudad, la fuente de los datos y el año de inicio y fin de la particion. Retorna una serie horaria conteniendo los años espacificados, si los años dados no estan en el rango de ideam se imprime que la serie no tiene este periodo de tiempo y cuando inicia y cuando termina."
   ]
  },
  {
   "cell_type": "code",
   "execution_count": 9,
   "metadata": {},
   "outputs": [],
   "source": [
    "def part (c1,f1,agnoIn,agnoFin):\n",
    "    GHI= dfCyFhor(c1,f1)\n",
    "    if GHI.AÑO[0]<=agnoIn and agnoFin<=GHI.AÑO[len(GHI.AÑO)-1]:\n",
    "        GHI1=GHI[GHI.AÑO >= agnoIn] #GHI1 se convierte en todo con a;os iguales o mayores que agnoIn\n",
    "        GHI1=GHI1[GHI1.AÑO <= agnoFin] #GHI1 \"\"\"\"\"\"\" rechaza los a;os mayores a angnoFin\n",
    "        GHIparcial=GHI1\n",
    "    else:\n",
    "        GHIparcial=0\n",
    "        print('La serie no contiene ese periodo de tiempo, esta inicia en',str(GHI.AÑO[0]),'y finaliza en',str(GHI.AÑO[len(GHI.AÑO)-1]))\n",
    "    return GHIparcial"
   ]
  },
  {
   "cell_type": "markdown",
   "metadata": {},
   "source": [
    "funcion que recibe el string del nombre de la ciudad desdeada y los ints de año de inicio y fin de la mustra. \n",
    "Retorna una serie horaria de la longitud de los datos atelitales corregida por la varianza de las series."
   ]
  },
  {
   "cell_type": "code",
   "execution_count": 10,
   "metadata": {},
   "outputs": [],
   "source": [
    "def VR (ciudad, a1,a2): #Retorna el df modificado\n",
    "    ID=part(ciudad,'IDEAM',a1,a2)\n",
    "    NR=part(ciudad,'NREL',a1,a2)\n",
    "    a=ID.IDEAM.values\n",
    "    b=NR.NREL.values\n",
    "    VR=dfCyFhor(ciudad, 'NREL')\n",
    "    NREL=VR.NREL\n",
    "    del VR['NREL']\n",
    "    temp=(np.mean(a)-(np.std(a)/np.std(b))*np.mean(b))+(np.std(a)/np.std(b))*(NREL)\n",
    "    temp[temp<0]=0\n",
    "    VR['VR']=temp\n",
    "    return VR"
   ]
  },
  {
   "cell_type": "markdown",
   "metadata": {},
   "source": [
    "La siguente funcion grafica la curva corregida por varianza, recibe como entrada la ciudad deseada, los años de inicio y final y las opciones de graficacion. "
   ]
  },
  {
   "cell_type": "code",
   "execution_count": 11,
   "metadata": {},
   "outputs": [],
   "source": [
    "def grafVR (c1,a1,a2,opcigraf):\n",
    "    GHI1= ghi(VR(c1,a1,a2))\n",
    "    datos1 = sorted(GHI1[\"GHIdiario\"])\n",
    "    pylab.xlabel(\"Datos\")\n",
    "    pylab.ylabel(\"Energía $kWh/m^2$\")\n",
    "    n = range(len(datos1))\n",
    "    pylab.plot(n,datos1,opcigraf, label=(c1+'_'+'VR'))#sin normalizar\n",
    "    pylab.legend(loc='upper left')"
   ]
  },
  {
   "cell_type": "markdown",
   "metadata": {},
   "source": [
    "A continuacion se encuentran las funciones de computo del error estas son tienen 2 posibilidades, las que es el nombre del error se les ingresa el string del nombre de la ciudad y los años de inicio y final y por otra parte las variantes _TT (tiempo total) lo que se refiere es que se encuentra el error entre los set de datos mas grandes que esten en las 2 series. (desde el primer año que tenga datos IDEAM."
   ]
  },
  {
   "cell_type": "code",
   "execution_count": 12,
   "metadata": {},
   "outputs": [],
   "source": [
    "def MD (ciudad, a1,a2): #retorna un numero\n",
    "    ID=part(ciudad,'IDEAM',a1,a2)\n",
    "    NR=part(ciudad,'NREL',a1,a2)\n",
    "    dif=NR.NREL.values-ID.IDEAM.values\n",
    "    MD=sum(dif)/len(dif)/100\n",
    "    return MD"
   ]
  },
  {
   "cell_type": "code",
   "execution_count": 13,
   "metadata": {},
   "outputs": [],
   "source": [
    "def rMD (ciudad, a1,a2): #retorna un numero\n",
    "    ID=part(ciudad,'IDEAM',a1,a2)\n",
    "    NR=part(ciudad,'NREL',a1,a2)\n",
    "    dif=NR.NREL.values-ID.IDEAM.values\n",
    "    rMD=sum(dif)/sum(ID.IDEAM.values)\n",
    "    return rMD"
   ]
  },
  {
   "cell_type": "code",
   "execution_count": 14,
   "metadata": {},
   "outputs": [],
   "source": [
    "def RMSD (ciudad, a1,a2): #retorna un numero\n",
    "    ID=part(ciudad,'IDEAM',a1,a2)\n",
    "    NR=part(ciudad,'NREL',a1,a2)\n",
    "    dif=NR.NREL.values-ID.IDEAM.values\n",
    "    RMSD=sqrt(1/len(dif)*sum(dif**2))/100\n",
    "    return RMSD"
   ]
  },
  {
   "cell_type": "code",
   "execution_count": 15,
   "metadata": {},
   "outputs": [],
   "source": [
    "def rRMSD (ciudad, a1,a2): #retorna un numero\n",
    "    ID=part(ciudad,'IDEAM',a1,a2)\n",
    "    a=RMSD (ciudad, a1,a2)\n",
    "    rRMSD=a/np.mean(ID.IDEAM.values)\n",
    "    return rRMSD"
   ]
  },
  {
   "cell_type": "code",
   "execution_count": 16,
   "metadata": {},
   "outputs": [],
   "source": [
    "def KSI (ciudad, a1,a2): #retorna un numero\n",
    "    ID=part(ciudad,'IDEAM',a1,a2)\n",
    "    NR=part(ciudad,'NREL',a1,a2)\n",
    "    KSI=ks_2samp(NR.NREL.values, ID.IDEAM.values)\n",
    "    return KSI"
   ]
  },
  {
   "cell_type": "code",
   "execution_count": 17,
   "metadata": {},
   "outputs": [],
   "source": [
    "def MD_TT (ciudad,m): #retorna un numero esta funcion da el error de todo el tiempo que hay datos de ambas fuentes\n",
    "#si m =1 se da la diferencia conta la serie corrgida\n",
    "    if m ==1:\n",
    "        Y=cdd[cdd.ciudades==ciudad]\n",
    "        a1=Y.Ainicio.values\n",
    "        a2=Y.Afinal.values\n",
    "        ID=part(ciudad,'IDEAM',a1[0],a2[0])\n",
    "        VR1=VR(ciudad,a1[0],a2[0])\n",
    "        VR2=VR1[VR1.AÑO>=a1[0]]\n",
    "        VR3=VR2[VR2.AÑO<=a2[0]]\n",
    "        dif=VR3.VR.values-ID.IDEAM.values\n",
    "        MD=sum(dif)/len(dif)\n",
    "    else:   \n",
    "        Y=cdd[cdd.ciudades==ciudad]\n",
    "        a1=Y.Ainicio.values\n",
    "        a2=Y.Afinal.values\n",
    "        ID=part(ciudad,'IDEAM',a1[0],a2[0])\n",
    "        NR=part(ciudad,'NREL',a1[0],a2[0])\n",
    "        dif=NR.NREL.values-ID.IDEAM.values\n",
    "        MD=sum(dif)/len(dif)\n",
    "    return MD"
   ]
  },
  {
   "cell_type": "code",
   "execution_count": 18,
   "metadata": {},
   "outputs": [],
   "source": [
    "def rMD_TT (ciudad,m): #retorna un numero\n",
    "    if m ==1:\n",
    "        Y=cdd[cdd.ciudades==ciudad]\n",
    "        a1=Y.Ainicio.values\n",
    "        a2=Y.Afinal.values\n",
    "        ID=part(ciudad,'IDEAM',a1[0],a2[0])\n",
    "        VR1=VR(ciudad,a1[0],a2[0])\n",
    "        VR2=VR1[VR1.AÑO>=a1[0]]\n",
    "        VR3=VR2[VR2.AÑO<=a2[0]]\n",
    "        dif=VR3.VR.values-ID.IDEAM.values\n",
    "        rMD=sum(dif)/sum(ID.IDEAM.values)\n",
    "    else:\n",
    "        Y=cdd[cdd.ciudades==ciudad]\n",
    "        a1=Y.Ainicio.values\n",
    "        a2=Y.Afinal.values\n",
    "        ID=part(ciudad,'IDEAM',a1[0],a2[0])\n",
    "        NR=part(ciudad,'NREL',a1[0],a2[0])\n",
    "        dif=NR.NREL.values-ID.IDEAM.values\n",
    "        rMD=sum(dif)/sum(ID.IDEAM.values)\n",
    "    return rMD"
   ]
  },
  {
   "cell_type": "code",
   "execution_count": 19,
   "metadata": {},
   "outputs": [],
   "source": [
    "def RMSD_TT (ciudad,m): #retorna un numero\n",
    "    if m ==1:\n",
    "        Y=cdd[cdd.ciudades==ciudad]\n",
    "        a1=Y.Ainicio.values\n",
    "        a2=Y.Afinal.values\n",
    "        ID=part(ciudad,'IDEAM',a1[0],a2[0])\n",
    "        VR1=VR(ciudad,a1[0],a2[0])\n",
    "        VR2=VR1[VR1.AÑO>=a1[0]]\n",
    "        VR3=VR2[VR2.AÑO<=a2[0]]\n",
    "        dif=VR3.VR.values-ID.IDEAM.values\n",
    "        RMSD=sqrt(1/len(dif)*sum(dif**2))\n",
    "    else:\n",
    "        Y=cdd[cdd.ciudades==ciudad]\n",
    "        a1=Y.Ainicio.values\n",
    "        a2=Y.Afinal.values\n",
    "        ID=part(ciudad,'IDEAM',a1[0],a2[0])\n",
    "        NR=part(ciudad,'NREL',a1[0],a2[0])\n",
    "        dif=NR.NREL.values-ID.IDEAM.values\n",
    "        RMSD=sqrt(1/len(dif)*sum(dif**2))\n",
    "    return RMSD"
   ]
  },
  {
   "cell_type": "code",
   "execution_count": 20,
   "metadata": {},
   "outputs": [],
   "source": [
    "def rRMSD_TT (ciudad,m): #retorna un numero\n",
    "    Y=cdd[cdd.ciudades==ciudad]\n",
    "    a1=Y.Ainicio.values\n",
    "    a2=Y.Afinal.values\n",
    "    ID=part(ciudad,'IDEAM',a1[0],a2[0])\n",
    "    if m ==1:\n",
    "        rRMSD=(RMSD_TT(ciudad,1))/np.mean(ID.IDEAM.values)\n",
    "    else:\n",
    "        rRMSD=(RMSD_TT(ciudad,0))/np.mean(ID.IDEAM.values)\n",
    "    return rRMSD"
   ]
  },
  {
   "cell_type": "code",
   "execution_count": 21,
   "metadata": {},
   "outputs": [],
   "source": [
    "def KSI_TT (ciudad,m): #retorna un numero\n",
    "    if m ==1:\n",
    "        Y=cdd[cdd.ciudades==ciudad]\n",
    "        a1=Y.Ainicio.values\n",
    "        a2=Y.Afinal.values\n",
    "        ID=part(ciudad,'IDEAM',a1[0],a2[0])\n",
    "        VR1=VR(ciudad,a1[0],a2[0])\n",
    "        VR2=VR1[VR1.AÑO>=a1[0]]\n",
    "        VR3=VR2[VR2.AÑO<=a2[0]]\n",
    "        KSI=ks_2samp(VR3.VR.values, ID.IDEAM.values)\n",
    "    else:\n",
    "        Y=cdd[cdd.ciudades==ciudad]\n",
    "        a1=Y.Ainicio.values\n",
    "        a2=Y.Afinal.values\n",
    "        ID=part(ciudad,'IDEAM',a1[0],a2[0])\n",
    "        NR=part(ciudad,'NREL',a1[0],a2[0])\n",
    "        KSI=ks_2samp(NR.NREL.values, ID.IDEAM.values)\n",
    "    return KSI"
   ]
  },
  {
   "cell_type": "markdown",
   "metadata": {},
   "source": [
    "Modificando ag1, ag2 y ciu2 se imprimen los valores de todos los errores de la ciudad de la muestra de años especifiacados y de todos los datos que se tienen."
   ]
  },
  {
   "cell_type": "code",
   "execution_count": 22,
   "metadata": {
    "scrolled": true
   },
   "outputs": [
    {
     "name": "stdout",
     "output_type": "stream",
     "text": [
      "Diferencia media simple de una muestra y de todos los datos disponibles: DMm= 0.455219079684  DMtt= 34.5691098623\n",
      "Diferencia media simple normalizada de una muestra y de todos los datos disponibles: DMnm= 0.241087778916  DMntt= 0.173841419994\n",
      "Raiz de la diferencia cuadratica de una muestra y de todos los datos disponibles: RMSDm 1.58956135901  RMSDtt= 146.937715855\n",
      "Raiz de la diferencia cuadratica normalizada de una muestra y de todos los datos disponibles: RMSDn 0.00841844805278  RMSDntt= 0.738921577\n",
      "Test kolmogorov-smirnov una muestra y de todos los datos disponibles: KSI Ks_2sampResult(statistic=0.080624001825233882, pvalue=1.3618435448068291e-99)  KSItt= Ks_2sampResult(statistic=0.065067086527929918, pvalue=9.0877732808914021e-162)\n"
     ]
    }
   ],
   "source": [
    "ag1=2010 #año de inicio de la mustra\n",
    "ag2=2013 #año final de la muestra\n",
    "ciu2='Sucre' #ciudad a calcular el error\n",
    "print('Diferencia media simple de una muestra y de todos los datos disponibles: DMm=',str(MD(ciu2,ag1,ag2)),' DMtt=',str(MD_TT(ciu2,0)))\n",
    "print('Diferencia media simple normalizada de una muestra y de todos los datos disponibles: DMnm=',str(rMD(ciu2,ag1,ag2)),' DMntt=',str(rMD_TT(ciu2,0)))\n",
    "print('Raiz de la diferencia cuadratica de una muestra y de todos los datos disponibles: RMSDm',str(RMSD(ciu2,ag1,ag2)),' RMSDtt=',str(RMSD_TT(ciu2,0)))\n",
    "print('Raiz de la diferencia cuadratica normalizada de una muestra y de todos los datos disponibles: RMSDn',str(rRMSD(ciu2,ag1,ag2)),' RMSDntt=',str(rRMSD_TT(ciu2,0)))\n",
    "print('Test kolmogorov-smirnov una muestra y de todos los datos disponibles: KSI',KSI(ciu2,ag1,ag2),' KSItt=',KSI_TT(ciu2,0))"
   ]
  },
  {
   "cell_type": "markdown",
   "metadata": {},
   "source": [
    "De los datos obtenidos anteriormente se pude notar que independientemente de los años que se elija, si estos no son los de toda la serie de ideam el error crece. Adicionalmente se considera que el error obtenido de todos los datos al tener mas datos representa periodos de tiempo mas largos.\n",
    "\n",
    "MBE: Este demuestra que en ese periodo la diferencia entre las series fue mayor a lo normal, ya que los datos adicionales de MBEtt generan una reducción en el error. por lo que tomar MBEm seria sobrestimar el error. adicionalmente MBEtt significa que en promedio hay un error de +-34.57% entre las series de datos satelitales y en tierra.\n",
    "\n",
    "MBEn: se tiene un resultado similar con la diferencia que en este caso el valor esta entre 0 y 1 donde 0 significaría series idénticas y 1 error infinito, de nuevo se nota que MBEntt tiene un menor error al tener un valor menor al de la muestra por lo que se prefiere este dato.\n",
    "\n",
    "RMSE: este dato al ser un valor absoluto reduce el ruido generado por offsets de los datos. ya que siempre es la diferencia positiva entre las series. Esto genera un valor de un orden de magnitud mayor al de la MBE pero esto es esperable ya que siempre se suma el error y no hay instancias en las que se sub estime este. por lo que este método se considera mas acertado para cuantificar el error, que en este caso es sustancialmente alto RMSE=+-1.4694%\n",
    "\n",
    "RMSEn: similar al no normalizado este error se encuentra entre 0 y 1 y se considera el RDCMntt. este es de 0,74 lo cual es mas alto de lo deseado. y en parte explica por que se usa una corrección por varianza a las series satelitales.\n",
    "\n",
    "Test KSI: esta prueba estadística se usa para determinar si hay una similitud entre 2 series de datos. Como es normar se escoge un $\\alpha=0.05$ y se trata de negar la hipótesis nula que en este caso seria que estas series son diferentes. Ya que los p-value son extremadamente pequeños se puede negar la hipótesis nula. Por lo tanto estas series no son aleatoriamente diferentes entre las 2. Por esto se puede decir que son similares.\n",
    "\n",
    "La conclusion de esto es que son mejores las funciones _TT por que son mas consistentes."
   ]
  },
  {
   "cell_type": "code",
   "execution_count": 23,
   "metadata": {
    "inputHidden": false,
    "outputHidden": false
   },
   "outputs": [],
   "source": [
    "def enficc (ciu):\n",
    "    Y=cdd[cdd.ciudades==ciu]\n",
    "    a1=Y.Ainicio.values\n",
    "    a2=Y.Afinal.values\n",
    "    percentil = 0.01\n",
    "    GHIideam=dfCyF(ciu,'IDEAM')\n",
    "    GHInrel=dfCyF(ciu,'NREL')\n",
    "    GHIvr=ghi(VR(ciu,a1[0],a2[0]))\n",
    "    \n",
    "    enficcID = GHIideam.quantile(q=percentil,numeric_only=True)[\"GHIdiario\"]\n",
    "    enficcNR = GHInrel.quantile(q=percentil,numeric_only=True)[\"GHIdiario\"]\n",
    "    enficcVR = GHIvr.quantile(q=percentil, numeric_only=True)[\"GHIdiario\"]\n",
    "    return [enficcID,enficcNR,enficcVR]"
   ]
  },
  {
   "cell_type": "markdown",
   "metadata": {},
   "source": [
    "El siguente cuadro de texto recorre el dataframe de los nombres de las ciudades y haciendo uso de grafVR y graf genera figuras con 3 curvas, IDEAM, NREL y VR para cada ciudad y las guarda en la carpeta graficas de este repositorio."
   ]
  },
  {
   "cell_type": "markdown",
   "metadata": {},
   "source": [
    "Finalmente, se calcula el percentil correspondiente al valor de la ENFICC que se desea calcular."
   ]
  },
  {
   "cell_type": "code",
   "execution_count": 24,
   "metadata": {},
   "outputs": [],
   "source": [
    "c=[0,1,2,3,4,5,6,7]\n",
    "for c in range(1,len(c)):\n",
    "    plt.figure(c)\n",
    "    graf(Ciudades.ciudades[c],'NREL','-k')\n",
    "    graf(Ciudades.ciudades[c],'IDEAM','-r')\n",
    "    grafVR(Ciudades.ciudades[c],2010,2015,'-g')\n",
    "    plt.savefig('graficas/'+Ciudades.ciudades[c]+'_'+'ENFICC'+'.png')\n",
    "    plt.close(figure(c))"
   ]
  },
  {
   "cell_type": "markdown",
   "metadata": {},
   "source": [
    "Las gráficas exponen las diferentes series de datos, en la cual se nota que las series de datos corregidas son similares a la serie de NREL. La corrección parece desplazar los datos según la varianza a un punto intermedio entre las dos series, pero tiene una similitud notoria. Los cambios de forma de la curva son despreciables en comparación a este corrimiento. Todas las gráficas tienden a tener una irradiación medida menor a la satelital. Esto se debe a que los modelos satelitales tienen problemas con medir el grosor de las nubes que generan la sombra que reduce la irradiación estimada con mediciones satelitales."
   ]
  },
  {
   "cell_type": "markdown",
   "metadata": {},
   "source": [
    "se generan 2 dataframes de los errores de todas las ciudades midiendo los errores en el intervalo maximo de tiempo posible comparando entre los datos de ideam y NREL y VR respectivamente"
   ]
  },
  {
   "cell_type": "code",
   "execution_count": 25,
   "metadata": {},
   "outputs": [
    {
     "name": "stdout",
     "output_type": "stream",
     "text": [
      "0\n",
      "1\n",
      "2\n",
      "3\n",
      "4\n",
      "5\n",
      "6\n",
      "7\n"
     ]
    }
   ],
   "source": [
    "c=[0,1,2,3,4,5,6,7]\n",
    "ENID=np.zeros(len(c))\n",
    "ENNR=np.zeros(len(c))\n",
    "ENVR=np.zeros(len(c))\n",
    "MD1=np.zeros(len(c))\n",
    "MDn1=np.zeros(len(c))\n",
    "RMSD1=np.zeros(len(c))\n",
    "RMSDn1=np.zeros(len(c))\n",
    "KSI1=[]\n",
    "MD2=np.zeros(len(c))\n",
    "MDn2=np.zeros(len(c))\n",
    "RMSD2=np.zeros(len(c))\n",
    "RMSDn2=np.zeros(len(c))\n",
    "KSI2=[]\n",
    "B=[]\n",
    "ErroresNR = pd.DataFrame(columns=[\"ciudades\",'ENFICC 99% IDEAM','ENFICC 99% NREL','MD','MDn','RMSD','RMSDn','KSI (estadistico, p-value)'])\n",
    "ErroresVR = pd.DataFrame(columns=[\"ciudades\",'ENFICC 99% IDEAM','ENFICC 99% VR','MD','MDn','RMSD','RMSDn','KSI (estadistico, p-value)'])\n",
    "for b in range(0,len(c)):\n",
    "    e=enficc(Ciudades.ciudades[b])\n",
    "    ENID[b]=e[0]\n",
    "    ENNR[b]=e[1]\n",
    "    ENVR[b]=e[2]\n",
    "    MD1[b]=MD_TT(Ciudades.ciudades[b],0)\n",
    "    MDn1[b]=rMD_TT(Ciudades.ciudades[b],0)\n",
    "    RMSD1[b]=RMSD_TT(Ciudades.ciudades[b],0)\n",
    "    RMSDn1[b]=rRMSD_TT(Ciudades.ciudades[b],0)\n",
    "    KSI1.append(KSI_TT(Ciudades.ciudades[b],0))\n",
    "    MD2[b]=MD_TT(Ciudades.ciudades[b],1)\n",
    "    MDn2[b]=rMD_TT(Ciudades.ciudades[b],1)\n",
    "    RMSD2[b]=RMSD_TT(Ciudades.ciudades[b],1)\n",
    "    RMSDn2[b]=rRMSD_TT(Ciudades.ciudades[b],1)\n",
    "    KSI2.append(KSI_TT(Ciudades.ciudades[b],1))\n",
    "    cd = {\"ciudades\":Ciudades.ciudades[b],'ENFICC 99% IDEAM':ENID[b],'ENFICC 99% NREL':ENNR[b], 'MD':MD1[b],'MDn':MDn1[b],'RMSD':RMSD1[b],'RMSDn':RMSDn1[b],'KSI (estadistico, p-value)':KSI1[b]}\n",
    "    ErroresNR = ErroresNR.append(cd, ignore_index=True)\n",
    "    ci= {\"ciudades\":Ciudades.ciudades[b],'ENFICC 99% IDEAM':ENID[b],'ENFICC 99% VR':ENVR[b], 'MD':MD2[b],'MDn':MDn2[b],'RMSD':RMSD2[b],'RMSDn':RMSDn2[b],'KSI (estadistico, p-value)':KSI2[b]}\n",
    "    ErroresVR =ErroresVR.append(ci,ignore_index=True)\n",
    "    print(b) #permite saber en que iteracion va este bloque de codigo"
   ]
  },
  {
   "cell_type": "code",
   "execution_count": 26,
   "metadata": {},
   "outputs": [
    {
     "data": {
      "text/html": [
       "<div>\n",
       "<table border=\"1\" class=\"dataframe\">\n",
       "  <thead>\n",
       "    <tr style=\"text-align: right;\">\n",
       "      <th></th>\n",
       "      <th>ciudades</th>\n",
       "      <th>ENFICC 99% IDEAM</th>\n",
       "      <th>ENFICC 99% NREL</th>\n",
       "      <th>MD</th>\n",
       "      <th>MDn</th>\n",
       "      <th>RMSD</th>\n",
       "      <th>RMSDn</th>\n",
       "      <th>KSI (estadistico, p-value)</th>\n",
       "    </tr>\n",
       "  </thead>\n",
       "  <tbody>\n",
       "    <tr>\n",
       "      <th>0</th>\n",
       "      <td>Barranquilla</td>\n",
       "      <td>4.160590</td>\n",
       "      <td>4.605947</td>\n",
       "      <td>8.664782</td>\n",
       "      <td>0.036988</td>\n",
       "      <td>145.697501</td>\n",
       "      <td>0.621942</td>\n",
       "      <td>(0.0267381713069, 8.91063719582e-17)</td>\n",
       "    </tr>\n",
       "    <tr>\n",
       "      <th>1</th>\n",
       "      <td>Cali</td>\n",
       "      <td>3.330779</td>\n",
       "      <td>4.360859</td>\n",
       "      <td>35.362315</td>\n",
       "      <td>0.192554</td>\n",
       "      <td>135.056378</td>\n",
       "      <td>0.735404</td>\n",
       "      <td>(0.0474470134875, 1.20004868047e-77)</td>\n",
       "    </tr>\n",
       "    <tr>\n",
       "      <th>2</th>\n",
       "      <td>Carmendebolivar</td>\n",
       "      <td>4.064822</td>\n",
       "      <td>4.273666</td>\n",
       "      <td>7.791151</td>\n",
       "      <td>0.036029</td>\n",
       "      <td>137.595818</td>\n",
       "      <td>0.636292</td>\n",
       "      <td>(0.0215115099888, 2.67820141967e-16)</td>\n",
       "    </tr>\n",
       "    <tr>\n",
       "      <th>3</th>\n",
       "      <td>Medellin</td>\n",
       "      <td>3.535194</td>\n",
       "      <td>4.326003</td>\n",
       "      <td>36.188959</td>\n",
       "      <td>0.197209</td>\n",
       "      <td>141.236359</td>\n",
       "      <td>0.769655</td>\n",
       "      <td>(0.0549698795181, 1.40565661167e-115)</td>\n",
       "    </tr>\n",
       "    <tr>\n",
       "      <th>4</th>\n",
       "      <td>SantaMarta</td>\n",
       "      <td>4.040717</td>\n",
       "      <td>4.536077</td>\n",
       "      <td>9.675972</td>\n",
       "      <td>0.041875</td>\n",
       "      <td>136.011081</td>\n",
       "      <td>0.588614</td>\n",
       "      <td>(0.0272929500342, 3.8443136677e-23)</td>\n",
       "    </tr>\n",
       "    <tr>\n",
       "      <th>5</th>\n",
       "      <td>Sucre</td>\n",
       "      <td>2.379644</td>\n",
       "      <td>4.839998</td>\n",
       "      <td>34.569110</td>\n",
       "      <td>0.173841</td>\n",
       "      <td>146.937716</td>\n",
       "      <td>0.738922</td>\n",
       "      <td>(0.0650670865279, 9.08777328089e-162)</td>\n",
       "    </tr>\n",
       "    <tr>\n",
       "      <th>6</th>\n",
       "      <td>Uribia</td>\n",
       "      <td>4.281897</td>\n",
       "      <td>4.622502</td>\n",
       "      <td>19.070289</td>\n",
       "      <td>0.081698</td>\n",
       "      <td>159.083796</td>\n",
       "      <td>0.681520</td>\n",
       "      <td>(0.0342620481928, 3.67678224957e-45)</td>\n",
       "    </tr>\n",
       "    <tr>\n",
       "      <th>7</th>\n",
       "      <td>Valledupar</td>\n",
       "      <td>4.569007</td>\n",
       "      <td>5.062653</td>\n",
       "      <td>25.687508</td>\n",
       "      <td>0.114984</td>\n",
       "      <td>122.999579</td>\n",
       "      <td>0.550577</td>\n",
       "      <td>(0.0393163563344, 2.4730515346e-59)</td>\n",
       "    </tr>\n",
       "  </tbody>\n",
       "</table>\n",
       "</div>"
      ],
      "text/plain": [
       "          ciudades  ENFICC 99% IDEAM  ENFICC 99% NREL         MD       MDn  \\\n",
       "0     Barranquilla          4.160590         4.605947   8.664782  0.036988   \n",
       "1             Cali          3.330779         4.360859  35.362315  0.192554   \n",
       "2  Carmendebolivar          4.064822         4.273666   7.791151  0.036029   \n",
       "3         Medellin          3.535194         4.326003  36.188959  0.197209   \n",
       "4       SantaMarta          4.040717         4.536077   9.675972  0.041875   \n",
       "5            Sucre          2.379644         4.839998  34.569110  0.173841   \n",
       "6           Uribia          4.281897         4.622502  19.070289  0.081698   \n",
       "7       Valledupar          4.569007         5.062653  25.687508  0.114984   \n",
       "\n",
       "         RMSD     RMSDn             KSI (estadistico, p-value)  \n",
       "0  145.697501  0.621942   (0.0267381713069, 8.91063719582e-17)  \n",
       "1  135.056378  0.735404   (0.0474470134875, 1.20004868047e-77)  \n",
       "2  137.595818  0.636292   (0.0215115099888, 2.67820141967e-16)  \n",
       "3  141.236359  0.769655  (0.0549698795181, 1.40565661167e-115)  \n",
       "4  136.011081  0.588614    (0.0272929500342, 3.8443136677e-23)  \n",
       "5  146.937716  0.738922  (0.0650670865279, 9.08777328089e-162)  \n",
       "6  159.083796  0.681520   (0.0342620481928, 3.67678224957e-45)  \n",
       "7  122.999579  0.550577    (0.0393163563344, 2.4730515346e-59)  "
      ]
     },
     "execution_count": 26,
     "metadata": {},
     "output_type": "execute_result"
    }
   ],
   "source": [
    "ErroresNR"
   ]
  },
  {
   "cell_type": "code",
   "execution_count": 27,
   "metadata": {},
   "outputs": [
    {
     "data": {
      "text/html": [
       "<div>\n",
       "<table border=\"1\" class=\"dataframe\">\n",
       "  <thead>\n",
       "    <tr style=\"text-align: right;\">\n",
       "      <th></th>\n",
       "      <th>ciudades</th>\n",
       "      <th>ENFICC 99% IDEAM</th>\n",
       "      <th>ENFICC 99% VR</th>\n",
       "      <th>MD</th>\n",
       "      <th>MDn</th>\n",
       "      <th>RMSD</th>\n",
       "      <th>RMSDn</th>\n",
       "      <th>KSI (estadistico, p-value)</th>\n",
       "    </tr>\n",
       "  </thead>\n",
       "  <tbody>\n",
       "    <tr>\n",
       "      <th>0</th>\n",
       "      <td>Barranquilla</td>\n",
       "      <td>4.160590</td>\n",
       "      <td>4.491647</td>\n",
       "      <td>3.513655</td>\n",
       "      <td>0.014999</td>\n",
       "      <td>144.762957</td>\n",
       "      <td>0.617953</td>\n",
       "      <td>(0.0252358131751, 5.44193283742e-15)</td>\n",
       "    </tr>\n",
       "    <tr>\n",
       "      <th>1</th>\n",
       "      <td>Cali</td>\n",
       "      <td>3.330779</td>\n",
       "      <td>3.706810</td>\n",
       "      <td>3.104405</td>\n",
       "      <td>0.016904</td>\n",
       "      <td>115.174361</td>\n",
       "      <td>0.627143</td>\n",
       "      <td>(0.0402215799615, 6.42281847226e-56)</td>\n",
       "    </tr>\n",
       "    <tr>\n",
       "      <th>2</th>\n",
       "      <td>Carmendebolivar</td>\n",
       "      <td>4.064822</td>\n",
       "      <td>4.160325</td>\n",
       "      <td>2.448163</td>\n",
       "      <td>0.011321</td>\n",
       "      <td>136.316046</td>\n",
       "      <td>0.630374</td>\n",
       "      <td>(0.0199776898895, 4.0806849256e-14)</td>\n",
       "    </tr>\n",
       "    <tr>\n",
       "      <th>3</th>\n",
       "      <td>Medellin</td>\n",
       "      <td>3.535194</td>\n",
       "      <td>3.669710</td>\n",
       "      <td>3.580933</td>\n",
       "      <td>0.019514</td>\n",
       "      <td>121.381541</td>\n",
       "      <td>0.661458</td>\n",
       "      <td>(0.0310560423512, 3.51444385694e-37)</td>\n",
       "    </tr>\n",
       "    <tr>\n",
       "      <th>4</th>\n",
       "      <td>SantaMarta</td>\n",
       "      <td>4.040717</td>\n",
       "      <td>4.368607</td>\n",
       "      <td>1.065637</td>\n",
       "      <td>0.004612</td>\n",
       "      <td>133.115097</td>\n",
       "      <td>0.576081</td>\n",
       "      <td>(0.0219455852156, 4.11300595102e-15)</td>\n",
       "    </tr>\n",
       "    <tr>\n",
       "      <th>5</th>\n",
       "      <td>Sucre</td>\n",
       "      <td>2.379644</td>\n",
       "      <td>4.205496</td>\n",
       "      <td>4.648092</td>\n",
       "      <td>0.023374</td>\n",
       "      <td>130.618073</td>\n",
       "      <td>0.656853</td>\n",
       "      <td>(0.0386660277474, 2.11784336114e-57)</td>\n",
       "    </tr>\n",
       "    <tr>\n",
       "      <th>6</th>\n",
       "      <td>Uribia</td>\n",
       "      <td>4.281897</td>\n",
       "      <td>4.329283</td>\n",
       "      <td>4.244474</td>\n",
       "      <td>0.018183</td>\n",
       "      <td>153.707589</td>\n",
       "      <td>0.658489</td>\n",
       "      <td>(0.0216662102957, 2.58094500709e-18)</td>\n",
       "    </tr>\n",
       "    <tr>\n",
       "      <th>7</th>\n",
       "      <td>Valledupar</td>\n",
       "      <td>4.569007</td>\n",
       "      <td>4.609141</td>\n",
       "      <td>4.111354</td>\n",
       "      <td>0.018403</td>\n",
       "      <td>113.569801</td>\n",
       "      <td>0.508367</td>\n",
       "      <td>(0.0251232201533, 1.76851360619e-24)</td>\n",
       "    </tr>\n",
       "  </tbody>\n",
       "</table>\n",
       "</div>"
      ],
      "text/plain": [
       "          ciudades  ENFICC 99% IDEAM  ENFICC 99% VR        MD       MDn  \\\n",
       "0     Barranquilla          4.160590       4.491647  3.513655  0.014999   \n",
       "1             Cali          3.330779       3.706810  3.104405  0.016904   \n",
       "2  Carmendebolivar          4.064822       4.160325  2.448163  0.011321   \n",
       "3         Medellin          3.535194       3.669710  3.580933  0.019514   \n",
       "4       SantaMarta          4.040717       4.368607  1.065637  0.004612   \n",
       "5            Sucre          2.379644       4.205496  4.648092  0.023374   \n",
       "6           Uribia          4.281897       4.329283  4.244474  0.018183   \n",
       "7       Valledupar          4.569007       4.609141  4.111354  0.018403   \n",
       "\n",
       "         RMSD     RMSDn            KSI (estadistico, p-value)  \n",
       "0  144.762957  0.617953  (0.0252358131751, 5.44193283742e-15)  \n",
       "1  115.174361  0.627143  (0.0402215799615, 6.42281847226e-56)  \n",
       "2  136.316046  0.630374   (0.0199776898895, 4.0806849256e-14)  \n",
       "3  121.381541  0.661458  (0.0310560423512, 3.51444385694e-37)  \n",
       "4  133.115097  0.576081  (0.0219455852156, 4.11300595102e-15)  \n",
       "5  130.618073  0.656853  (0.0386660277474, 2.11784336114e-57)  \n",
       "6  153.707589  0.658489  (0.0216662102957, 2.58094500709e-18)  \n",
       "7  113.569801  0.508367  (0.0251232201533, 1.76851360619e-24)  "
      ]
     },
     "execution_count": 27,
     "metadata": {},
     "output_type": "execute_result"
    }
   ],
   "source": [
    "ErroresVR"
   ]
  },
  {
   "cell_type": "code",
   "execution_count": 28,
   "metadata": {},
   "outputs": [
    {
     "name": "stdout",
     "output_type": "stream",
     "text": [
      "La diferencia media absoluta entre el ENFICC calculado con la serie NREL e IDEAM es: 0.783131925484794\n",
      "La diferencia media absoluta entre el ENFICC calculado con la serie VR e IDEAM es: 0.3972961937860443\n"
     ]
    }
   ],
   "source": [
    "difENFICCNREL=mean(abs(ErroresNR['ENFICC 99% IDEAM']-ErroresNR['ENFICC 99% NREL']))\n",
    "difENFICCVR=mean(abs(ErroresVR['ENFICC 99% IDEAM']-ErroresVR['ENFICC 99% VR']))\n",
    "print('La diferencia media absoluta entre el ENFICC calculado con la serie NREL e IDEAM es:',difENFICCNREL)\n",
    "print('La diferencia media absoluta entre el ENFICC calculado con la serie VR e IDEAM es:',difENFICCVR)"
   ]
  },
  {
   "cell_type": "markdown",
   "metadata": {},
   "source": [
    "Según la línea anterior se nota que el promedio de las diferencias entre los datos satelitales y los datos satelitales corregidos se reduce para la serie VR lo cual es deseable ya que esto significa que se asemeja mas a los datos tomados in situ."
   ]
  },
  {
   "cell_type": "code",
   "execution_count": 29,
   "metadata": {},
   "outputs": [
    {
     "name": "stdout",
     "output_type": "stream",
     "text": [
      "El MBE de la serie NREL es: 22.12626076190469 el normalizado es : 22.12626076190469\n",
      "El MBE de la serie VR es: 3.3395891689333226 el normalizado es : 3.3395891689333226\n"
     ]
    }
   ],
   "source": [
    "MD1=mean(ErroresNR['MD'])\n",
    "MD2=mean(ErroresVR['MD'])\n",
    "MDn1=mean(ErroresNR['MD'])\n",
    "MDn2=mean(ErroresVR['MD'])\n",
    "print('El MBE de la serie NREL es:',MD1, 'el normalizado es :',MDn1)\n",
    "print('El MBE de la serie VR es:',MD2, 'el normalizado es :',MDn2)"
   ]
  },
  {
   "cell_type": "markdown",
   "metadata": {},
   "source": [
    "Como se esperaba por los resultados anteriores el indicador de error RMSEn se redujo al tratar los datos corrigiendo por la varianza. Reduciendo el porcentaje de error. "
   ]
  },
  {
   "cell_type": "code",
   "execution_count": 30,
   "metadata": {},
   "outputs": [
    {
     "name": "stdout",
     "output_type": "stream",
     "text": [
      "El RMSE de la serie NREL es: 140.57727852877449 el normalizado es : 140.57727852877449\n",
      "El RMSE de la serie VR es: 131.0806833444644 el normalizado es : 131.0806833444644\n"
     ]
    }
   ],
   "source": [
    "RMSD1=mean(ErroresNR['RMSD'])\n",
    "RMSD2=mean(ErroresVR['RMSD'])\n",
    "RMSDn1=mean(ErroresNR['RMSD'])\n",
    "RMSDn2=mean(ErroresVR['RMSD'])\n",
    "print('El RMSE de la serie NREL es:',RMSD1, 'el normalizado es :',RMSDn1)\n",
    "print('El RMSE de la serie VR es:',RMSD2, 'el normalizado es :',RMSDn2)"
   ]
  },
  {
   "cell_type": "code",
   "execution_count": 31,
   "metadata": {},
   "outputs": [
    {
     "name": "stdout",
     "output_type": "stream",
     "text": [
      "0     (0.0267381713069, 8.91063719582e-17)\n",
      "1     (0.0474470134875, 1.20004868047e-77)\n",
      "2     (0.0215115099888, 2.67820141967e-16)\n",
      "3    (0.0549698795181, 1.40565661167e-115)\n",
      "4      (0.0272929500342, 3.8443136677e-23)\n",
      "5    (0.0650670865279, 9.08777328089e-162)\n",
      "6     (0.0342620481928, 3.67678224957e-45)\n",
      "7      (0.0393163563344, 2.4730515346e-59)\n",
      "Name: KSI (estadistico, p-value), dtype: object\n",
      "0    (0.0252358131751, 5.44193283742e-15)\n",
      "1    (0.0402215799615, 6.42281847226e-56)\n",
      "2     (0.0199776898895, 4.0806849256e-14)\n",
      "3    (0.0310560423512, 3.51444385694e-37)\n",
      "4    (0.0219455852156, 4.11300595102e-15)\n",
      "5    (0.0386660277474, 2.11784336114e-57)\n",
      "6    (0.0216662102957, 2.58094500709e-18)\n",
      "7    (0.0251232201533, 1.76851360619e-24)\n",
      "Name: KSI (estadistico, p-value), dtype: object\n"
     ]
    }
   ],
   "source": [
    "print(ErroresNR['KSI (estadistico, p-value)'])\n",
    "print(ErroresVR['KSI (estadistico, p-value)'])"
   ]
  },
  {
   "cell_type": "markdown",
   "metadata": {},
   "source": [
    "La serie VR tiene una mejora en los estadisticos reduciendo su valor en todas las ciudades y las significancias de estas pruebas reducieron su p-value por lo que los datos son mas consistentes pero se asimulan mas a los datos satelitales que los medidos. y para todas las ciudades se rechaza la hipotesis nula por lo que se puede decir que son similares las series con el $\\alpha=0.05$."
   ]
  }
 ],
 "metadata": {
  "kernel_info": {
   "name": "python3"
  },
  "kernelspec": {
   "display_name": "Python 3",
   "language": "python",
   "name": "python3"
  },
  "language_info": {
   "codemirror_mode": {
    "name": "ipython",
    "version": 3
   },
   "file_extension": ".py",
   "mimetype": "text/x-python",
   "name": "python",
   "nbconvert_exporter": "python",
   "pygments_lexer": "ipython3",
   "version": "3.5.4"
  },
  "nteract": {
   "version": "0.6.2"
  }
 },
 "nbformat": 4,
 "nbformat_minor": 4
}
