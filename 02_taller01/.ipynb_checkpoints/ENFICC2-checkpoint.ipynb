{
 "cells": [
  {
   "cell_type": "code",
   "execution_count": 1,
   "metadata": {},
   "outputs": [],
   "source": [
    "import os\n",
    "import pandas as pd"
   ]
  },
  {
   "cell_type": "code",
   "execution_count": 2,
   "metadata": {},
   "outputs": [
    {
     "name": "stdout",
     "output_type": "stream",
     "text": [
      "Populating the interactive namespace from numpy and matplotlib\n"
     ]
    }
   ],
   "source": [
    "%pylab inline"
   ]
  },
  {
   "cell_type": "code",
   "execution_count": 3,
   "metadata": {},
   "outputs": [
    {
     "data": {
      "text/plain": [
       "'/home/nbuser/library/02_taller01'"
      ]
     },
     "execution_count": 3,
     "metadata": {},
     "output_type": "execute_result"
    }
   ],
   "source": [
    "pwd"
   ]
  },
  {
   "cell_type": "code",
   "execution_count": 4,
   "metadata": {},
   "outputs": [],
   "source": [
    "base_dir = os.path.join( '.','data')\n",
    "output_dir = os.path.join( '.','output')\n",
    "ciudad = 'Valledupar'\n",
    "fuente = 'IDEAM'\n",
    "serie_csv = os.path.join(base_dir,ciudad,fuente+'.csv')\n",
    "serie_pd = pd.read_csv(serie_csv, sep = ';',\n",
    "                encoding='latin-1')"
   ]
  },
  {
   "cell_type": "code",
   "execution_count": 5,
   "metadata": {},
   "outputs": [
    {
     "data": {
      "text/plain": [
       "<bound method NDFrame.head of         AÑO  MES  DIA  HORA       IDEAM\n",
       "0      2006    1    1     0    0.000000\n",
       "1      2006    1    1     1    0.000000\n",
       "2      2006    1    1     2    0.000000\n",
       "3      2006    1    1     3    0.000000\n",
       "4      2006    1    1     4    0.000000\n",
       "5      2006    1    1     5    0.000000\n",
       "6      2006    1    1     6    0.000000\n",
       "7      2006    1    1     7   41.559251\n",
       "8      2006    1    1     8  238.699288\n",
       "9      2006    1    1     9  455.020517\n",
       "10     2006    1    1    10  624.454387\n",
       "11     2006    1    1    11  734.213434\n",
       "12     2006    1    1    12  777.903929\n",
       "13     2006    1    1    13  757.657114\n",
       "14     2006    1    1    14  706.507267\n",
       "15     2006    1    1    15  586.092001\n",
       "16     2006    1    1    16  412.395644\n",
       "17     2006    1    1    17  206.730633\n",
       "18     2006    1    1    18   25.574924\n",
       "19     2006    1    1    19    0.000000\n",
       "20     2006    1    1    20    0.000000\n",
       "21     2006    1    1    21    0.000000\n",
       "22     2006    1    1    22    0.000000\n",
       "23     2006    1    1    23    0.000000\n",
       "24     2006    1    2     0    0.000000\n",
       "25     2006    1    2     1    0.000000\n",
       "26     2006    1    2     2    0.000000\n",
       "27     2006    1    2     3    0.000000\n",
       "28     2006    1    2     4    0.000000\n",
       "29     2006    1    2     5    0.000000\n",
       "...     ...  ...  ...   ...         ...\n",
       "87618  2015   12   30    18   15.984655\n",
       "87619  2015   12   30    19    0.000000\n",
       "87620  2015   12   30    20    0.000000\n",
       "87621  2015   12   30    21    0.000000\n",
       "87622  2015   12   30    22    0.000000\n",
       "87623  2015   12   30    23    0.000000\n",
       "87624  2015   12   31     0    0.000000\n",
       "87625  2015   12   31     1    0.000000\n",
       "87626  2015   12   31     2    0.000000\n",
       "87627  2015   12   31     3    0.000000\n",
       "87628  2015   12   31     4    0.000000\n",
       "87629  2015   12   31     5    0.000000\n",
       "87630  2015   12   31     6    1.065644\n",
       "87631  2015   12   31     7   45.822677\n",
       "87632  2015   12   31     8  262.148338\n",
       "87633  2015   12   31     9  501.918159\n",
       "87634  2015   12   31    10  668.158568\n",
       "87635  2015   12   31    11  540.281330\n",
       "87636  2015   12   31    12  895.140665\n",
       "87637  2015   12   31    13  885.549872\n",
       "87638  2015   12   31    14  817.348679\n",
       "87639  2015   12   31    15  657.502131\n",
       "87640  2015   12   31    16  463.554987\n",
       "87641  2015   12   31    17  225.916454\n",
       "87642  2015   12   31    18   19.181586\n",
       "87643  2015   12   31    19    0.000000\n",
       "87644  2015   12   31    20    0.000000\n",
       "87645  2015   12   31    21    0.000000\n",
       "87646  2015   12   31    22    0.000000\n",
       "87647  2015   12   31    23    0.000000\n",
       "\n",
       "[87648 rows x 5 columns]>"
      ]
     },
     "execution_count": 5,
     "metadata": {},
     "output_type": "execute_result"
    }
   ],
   "source": [
    "serie_pd.head"
   ]
  },
  {
   "cell_type": "code",
   "execution_count": 7,
   "metadata": {},
   "outputs": [
    {
     "ename": "IndentationError",
     "evalue": "expected an indented block (<ipython-input-7-cd9d39e12707>, line 16)",
     "output_type": "error",
     "traceback": [
      "\u001b[0;36m  File \u001b[0;32m\"<ipython-input-7-cd9d39e12707>\"\u001b[0;36m, line \u001b[0;32m16\u001b[0m\n\u001b[0;31m    agnos = sorted(serie_ghi_mensual['AÑO'].unique())\u001b[0m\n\u001b[0m        ^\u001b[0m\n\u001b[0;31mIndentationError\u001b[0m\u001b[0;31m:\u001b[0m expected an indented block\n"
     ]
    }
   ],
   "source": [
    "    agnos = sorted(serie_horaria['AÑO'].unique())\n",
    "    ghi_df = pd.DataFrame(columns=[\"AÑO\", \"MES\", \"DIAS\", \"GHImes\"])\n",
    "    for agno in agnos:\n",
    "        for mes in range(1,13):\n",
    "            nombre_energia = list(serie_horaria)[-1]\n",
    "            dias = sorted(serie_horaria[(serie_horaria['AÑO'] == agno) &\n",
    "                        (serie_horaria['MES'] == mes)][\"DIA\"].unique())\n",
    "            ghi_mes = serie_horaria.loc[((serie_horaria[\"AÑO\"] == agno)\n",
    "                            & (serie_horaria[\"MES\"] == mes)),\n",
    "                                        nombre_energia].sum()/1000\n",
    "            ghi_dict = {\"AÑO\":agno, \"MES\":mes, \"DIAS\":dias[-1],\n",
    "                        \"GHImes\":ghi_mes}\n",
    "            ghi_df = ghi_df.append(ghi_dict, ignore_index=True)\n",
    "    return ghi_df\n",
    "def ghi_dia(serie_ghi_mensual):\n",
    "    agnos = sorted(serie_ghi_mensual['AÑO'].unique())\n",
    "    ghi_df = pd.DataFrame(columns=[\"AÑO\", \"MES\", \"GHIdiario\"])\n",
    "    for agno in agnos:\n",
    "        for mes in range(1,13):\n",
    "            dias = serie_ghi_mensual.loc[((serie_ghi_mensual[\"AÑO\"] == agno)\n",
    "                            & (serie_ghi_mensual[\"MES\"] == mes))\n",
    "                                         ,\"DIAS\"].item()\n",
    "            ghi_diario = serie_ghi_mensual.loc[(\n",
    "                (serie_ghi_mensual[\"AÑO\"] == agno)\n",
    "                            & (serie_ghi_mensual[\"MES\"] == mes)),\n",
    "                \"GHImes\"].item()/dias\n",
    "            ghi_dict = {\"AÑO\":agno, \"MES\":mes, \"GHIdiario\":ghi_diario}\n",
    "            ghi_df = ghi_df.append(ghi_dict, ignore_index=True)\n",
    "    return ghi_df"
   ]
  },
  {
   "cell_type": "code",
   "execution_count": null,
   "metadata": {},
   "outputs": [],
   "source": []
  }
 ],
 "metadata": {
  "kernelspec": {
   "display_name": "Python 3.6",
   "language": "python",
   "name": "python36"
  },
  "language_info": {
   "codemirror_mode": {
    "name": "ipython",
    "version": 3
   },
   "file_extension": ".py",
   "mimetype": "text/x-python",
   "name": "python",
   "nbconvert_exporter": "python",
   "pygments_lexer": "ipython3",
   "version": "3.6.3"
  }
 },
 "nbformat": 4,
 "nbformat_minor": 2
}
